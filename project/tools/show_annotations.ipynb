{
 "cells": [
  {
   "cell_type": "code",
   "execution_count": 12,
   "metadata": {},
   "outputs": [],
   "source": [
    "import json, os, tqdm, cv2, random\n",
    "import matplotlib.pyplot as plt"
   ]
  },
  {
   "cell_type": "code",
   "execution_count": 13,
   "metadata": {},
   "outputs": [],
   "source": [
    "def show_annotations(annos, root_img, root_save, type='COCO', PALETTE=None):\n",
    "     # only support COCO annotations\n",
    "    if type == 'COCO':\n",
    "        with open(annos, 'r', encoding='utf-8') as f:\n",
    "            data = json.load(f)\n",
    "        info = data['info']\n",
    "        license = data['license']\n",
    "        images = data['images']\n",
    "        annotations = data['annotations']\n",
    "        categories = data['categories']\n",
    "        colors = []\n",
    "        if PALETTE == None:\n",
    "            for _ in range(len(categories)):\n",
    "                color = (random.randint(0,255), random.randint(0,255), random.randint(0,255))\n",
    "                colors.append(color)\n",
    "        if os.path.exists(root_save) == False:\n",
    "            os.mkdir(root_save)\n",
    "        print('info:{}\\nlicense:{}'.format(info, license))\n",
    "        print('The datasets have {} images, {} annotations'.format(len(images), len(annotations)))\n",
    "        for image in tqdm.tqdm(images):\n",
    "            img = cv2.imread(os.path.join(root_img,image['file_name']))\n",
    "            for anno in annotations:\n",
    "                if anno['image_id'] == image['id']:\n",
    "                    bbox = anno['bbox']\n",
    "                    x1, y1, x2, y2 = bbox[0], bbox[1], bbox[0] + bbox[2], bbox[1] + bbox[3]\n",
    "                    img = cv2.rectangle(img, (x1,y1), (x2,y2), colors[anno['category_id']-1], thickness=2)\n",
    "                if anno['image_id'] > image['id']:\n",
    "                    break\n",
    "            cv2.imwrite(os.path.join(root_save,image['file_name']), img)\n",
    "    else:\n",
    "        print('The annotation style of {} has not supported right now.'.format(type))"
   ]
  },
  {
   "cell_type": "code",
   "execution_count": 16,
   "metadata": {},
   "outputs": [
    {
     "name": "stdout",
     "output_type": "stream",
     "text": [
      "info:spytensor created\n",
      "license:['license']\n",
      "The datasets have 2222 images, 4647 annotations\n"
     ]
    },
    {
     "name": "stderr",
     "output_type": "stream",
     "text": [
      "100%|██████████| 2222/2222 [08:44<00:00,  4.24it/s]\n"
     ]
    }
   ],
   "source": [
    "anno_file = '../LogMiniDet/data/0428/annotations/train.json'\n",
    "root_img = '../LogMiniDet/data/0428/train'\n",
    "root_save = '../LogMiniDet/data/0428/vis_anno/train'\n",
    "if os.path.exists('../LogMiniDet/data/0428/vis_anno') == False:\n",
    "    os.mkdir('../LogMiniDet/data/0428/vis_anno')\n",
    "show_annotations(anno_file, root_img, root_save)"
   ]
  },
  {
   "cell_type": "code",
   "execution_count": 15,
   "metadata": {},
   "outputs": [
    {
     "name": "stdout",
     "output_type": "stream",
     "text": [
      "info:spytensor created\n",
      "license:['license']\n",
      "The datasets have 254 images, 514 annotations\n"
     ]
    },
    {
     "name": "stderr",
     "output_type": "stream",
     "text": [
      "100%|██████████| 254/254 [00:56<00:00,  4.51it/s]\n"
     ]
    }
   ],
   "source": [
    "anno_file = '../LogMiniDet/data/0428/annotations/val.json'\n",
    "root_img = '../LogMiniDet/data/0428/val'\n",
    "root_save = '../LogMiniDet/data/0428/vis_anno/val'\n",
    "if os.path.exists('../LogMiniDet/data/0428/vis_anno') == False:\n",
    "    os.mkdir('../LogMiniDet/data/0428/vis_anno')\n",
    "show_annotations(anno_file, root_img, root_save)"
   ]
  },
  {
   "cell_type": "code",
   "execution_count": 6,
   "metadata": {},
   "outputs": [
    {
     "name": "stdout",
     "output_type": "stream",
     "text": [
      "info:spytensor created\n",
      "license:['license']\n",
      "The datasets have 2476 images, 5161 annotations\n"
     ]
    },
    {
     "name": "stderr",
     "output_type": "stream",
     "text": [
      "100%|██████████| 2476/2476 [07:00<00:00,  5.89it/s]\n"
     ]
    }
   ],
   "source": [
    "anno_file = '../LogMiniDet/data/train/annotations/instances_train2017.json'\n",
    "root_img = '../LogMiniDet/data/train/images/'\n",
    "root_save = '../LogMiniDet/data/train/vis_anno/'\n",
    "\n",
    "show_annotations(anno_file, root_img, root_save)"
   ]
  }
 ],
 "metadata": {
  "interpreter": {
   "hash": "5e3dd4b29ba3876cd119e45faa2b3cc45bdb4befedc6229feaaf2d9a451ee344"
  },
  "kernelspec": {
   "display_name": "Python 3.7.9 ('mmdet2')",
   "language": "python",
   "name": "python3"
  },
  "language_info": {
   "codemirror_mode": {
    "name": "ipython",
    "version": 3
   },
   "file_extension": ".py",
   "mimetype": "text/x-python",
   "name": "python",
   "nbconvert_exporter": "python",
   "pygments_lexer": "ipython3",
   "version": "3.7.9"
  },
  "orig_nbformat": 4
 },
 "nbformat": 4,
 "nbformat_minor": 2
}
